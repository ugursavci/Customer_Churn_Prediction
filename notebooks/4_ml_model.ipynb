{
 "cells": [
  {
   "cell_type": "markdown",
   "id": "a4ed4b62-5d86-4b6e-8dec-5d0e8e80fc36",
   "metadata": {},
   "source": [
    "### Importing Libraries"
   ]
  },
  {
   "cell_type": "code",
   "execution_count": 49,
   "id": "d21e3fc5-c542-4ad4-9f8d-968b50428768",
   "metadata": {
    "tags": []
   },
   "outputs": [],
   "source": [
    "import pandas as pd # data analysis\n",
    "import numpy as np # linear algebra\n",
    "\n",
    "import matplotlib.pyplot as plt # data_viz\n",
    "import seaborn as sns # data_viz\n",
    "import scipy.stats as stats\n",
    "\n",
    "### Config\n",
    "pd.set_option('display.max_columns', None)\n",
    "pd.set_option('display.max_rows', None)\n",
    "pd.set_option('display.float_format', lambda x: '%.3f' % x)\n",
    "pd.set_option('display.width', 500)\n",
    "pd.set_option('display.float_format', lambda x: '%.3f' % x)\n",
    "\n",
    "\n",
    "\n",
    "### Preprocessing\n",
    "from sklearn.preprocessing import StandardScaler\n",
    "from sklearn.model_selection import train_test_split\n",
    "from sklearn.model_selection import GridSearchCV\n",
    "from sklearn.model_selection import KFold,StratifiedKFold,cross_val_score,cross_validate\n",
    "from sklearn.preprocessing import OneHotEncoder,LabelEncoder,OrdinalEncoder\n",
    "\n",
    "### Feature Selection\n",
    "### Filtering\n",
    "from sklearn.feature_selection import chi2,f_classif,f_regression,mutual_info_classif,mutual_info_regression,RFE,SelectFromModel,SelectKBest,SelectPercentile\n",
    "from scipy.stats import chi2_contingency\n",
    "### Wrapper \n",
    "\n",
    "from sklearn.feature_selection import RFE\n",
    "\n",
    "\n",
    "\n",
    "\n",
    "### pipeline\n",
    "from sklearn.pipeline import Pipeline\n",
    "\n",
    "## Feature Selection\n",
    "from sklearn.feature_selection import chi2,f_regression,f_classif,mutual_info_classif,mutual_info_regression,RFECV\n",
    "from sklearn.feature_selection import SelectKBest,SelectPercentile,SelectFromModel\n",
    "\n",
    "\n",
    "### Machine Learning Model\n",
    "\n",
    "### Tree Based Algorithms\n",
    "\n",
    "from sklearn.tree import DecisionTreeRegressor,DecisionTreeClassifier\n",
    "from sklearn.ensemble import RandomForestClassifier,GradientBoostingClassifier,AdaBoostClassifier,VotingClassifier,VotingRegressor\n",
    "from xgboost import XGBClassifier,XGBRegressor\n",
    "from lightgbm import LGBMClassifier,LGBMRegressor\n",
    "\n",
    "### Linear Algoritms\n",
    "\n",
    "\n",
    "from sklearn.linear_model import LinearRegression,LogisticRegression,ElasticNet\n",
    "from sklearn.svm import SVC,SVR\n",
    "\n",
    "#### Voting Classifier\n",
    "\n",
    "\n",
    "\n",
    "### Metrics ###\n",
    "from sklearn.metrics import classification_report,accuracy_score,roc_auc_score,confusion_matrix,recall_score,precision_score,f1_score,\\\n",
    "r2_score,mean_absolute_error,mean_squared_error\n",
    "\n",
    "#### Model Explain\n",
    "\n",
    "\n",
    "## Others\n",
    "## Warning\n",
    "import warnings\n",
    "warnings.filterwarnings('ignore')\n",
    "\n",
    "### Saving Model\n",
    "import pickle"
   ]
  },
  {
   "cell_type": "markdown",
   "id": "e76eb442-ef51-44f3-b87c-c0dd709d654c",
   "metadata": {},
   "source": [
    "### Reading Data"
   ]
  },
  {
   "cell_type": "code",
   "execution_count": 50,
   "id": "6e0e30b9-19aa-48a5-9c34-a60d1a815757",
   "metadata": {},
   "outputs": [],
   "source": [
    "df = pd.read_csv('datasets\\selected_features.csv')"
   ]
  },
  {
   "cell_type": "code",
   "execution_count": 51,
   "id": "8abac63a-e3b9-4bf1-967e-8378d8ea884a",
   "metadata": {},
   "outputs": [
    {
     "data": {
      "text/html": [
       "<div>\n",
       "<style scoped>\n",
       "    .dataframe tbody tr th:only-of-type {\n",
       "        vertical-align: middle;\n",
       "    }\n",
       "\n",
       "    .dataframe tbody tr th {\n",
       "        vertical-align: top;\n",
       "    }\n",
       "\n",
       "    .dataframe thead th {\n",
       "        text-align: right;\n",
       "    }\n",
       "</style>\n",
       "<table border=\"1\" class=\"dataframe\">\n",
       "  <thead>\n",
       "    <tr style=\"text-align: right;\">\n",
       "      <th></th>\n",
       "      <th>CONTRACT</th>\n",
       "      <th>TENURE</th>\n",
       "      <th>TECHSUPPORT</th>\n",
       "      <th>INTERNETSERVICE</th>\n",
       "      <th>ONLINESECURITY</th>\n",
       "      <th>DEVICEPROTECTION</th>\n",
       "      <th>MONTHLYCHARGES</th>\n",
       "      <th>PAYMENTMETHOD</th>\n",
       "      <th>STREAMINGMOVIES</th>\n",
       "      <th>ONLINEBACKUP</th>\n",
       "      <th>CHURN</th>\n",
       "    </tr>\n",
       "  </thead>\n",
       "  <tbody>\n",
       "    <tr>\n",
       "      <th>0</th>\n",
       "      <td>Month-to-month</td>\n",
       "      <td>1</td>\n",
       "      <td>No</td>\n",
       "      <td>DSL</td>\n",
       "      <td>No</td>\n",
       "      <td>No</td>\n",
       "      <td>29.850</td>\n",
       "      <td>Electronic check</td>\n",
       "      <td>No</td>\n",
       "      <td>Yes</td>\n",
       "      <td>0</td>\n",
       "    </tr>\n",
       "    <tr>\n",
       "      <th>1</th>\n",
       "      <td>One year</td>\n",
       "      <td>34</td>\n",
       "      <td>No</td>\n",
       "      <td>DSL</td>\n",
       "      <td>Yes</td>\n",
       "      <td>Yes</td>\n",
       "      <td>56.950</td>\n",
       "      <td>Mailed check</td>\n",
       "      <td>No</td>\n",
       "      <td>No</td>\n",
       "      <td>0</td>\n",
       "    </tr>\n",
       "    <tr>\n",
       "      <th>2</th>\n",
       "      <td>Month-to-month</td>\n",
       "      <td>2</td>\n",
       "      <td>No</td>\n",
       "      <td>DSL</td>\n",
       "      <td>Yes</td>\n",
       "      <td>No</td>\n",
       "      <td>53.850</td>\n",
       "      <td>Mailed check</td>\n",
       "      <td>No</td>\n",
       "      <td>Yes</td>\n",
       "      <td>1</td>\n",
       "    </tr>\n",
       "    <tr>\n",
       "      <th>3</th>\n",
       "      <td>One year</td>\n",
       "      <td>45</td>\n",
       "      <td>Yes</td>\n",
       "      <td>DSL</td>\n",
       "      <td>Yes</td>\n",
       "      <td>Yes</td>\n",
       "      <td>42.300</td>\n",
       "      <td>Bank transfer (automatic)</td>\n",
       "      <td>No</td>\n",
       "      <td>No</td>\n",
       "      <td>0</td>\n",
       "    </tr>\n",
       "    <tr>\n",
       "      <th>4</th>\n",
       "      <td>Month-to-month</td>\n",
       "      <td>2</td>\n",
       "      <td>No</td>\n",
       "      <td>Fiber optic</td>\n",
       "      <td>No</td>\n",
       "      <td>No</td>\n",
       "      <td>70.700</td>\n",
       "      <td>Electronic check</td>\n",
       "      <td>No</td>\n",
       "      <td>No</td>\n",
       "      <td>1</td>\n",
       "    </tr>\n",
       "  </tbody>\n",
       "</table>\n",
       "</div>"
      ],
      "text/plain": [
       "         CONTRACT  TENURE TECHSUPPORT INTERNETSERVICE ONLINESECURITY DEVICEPROTECTION  MONTHLYCHARGES              PAYMENTMETHOD STREAMINGMOVIES ONLINEBACKUP  CHURN\n",
       "0  Month-to-month       1          No             DSL             No               No          29.850           Electronic check              No          Yes      0\n",
       "1        One year      34          No             DSL            Yes              Yes          56.950               Mailed check              No           No      0\n",
       "2  Month-to-month       2          No             DSL            Yes               No          53.850               Mailed check              No          Yes      1\n",
       "3        One year      45         Yes             DSL            Yes              Yes          42.300  Bank transfer (automatic)              No           No      0\n",
       "4  Month-to-month       2          No     Fiber optic             No               No          70.700           Electronic check              No           No      1"
      ]
     },
     "execution_count": 51,
     "metadata": {},
     "output_type": "execute_result"
    }
   ],
   "source": [
    "df.head()"
   ]
  },
  {
   "cell_type": "code",
   "execution_count": 52,
   "id": "c712e9c8-c581-4e93-8c67-076129565496",
   "metadata": {},
   "outputs": [],
   "source": [
    "df['ONLINESECURITY']= df.ONLINESECURITY.replace({'No internet service':'No_internet'})\n",
    "df['DEVICEPROTECTION'] = df.ONLINESECURITY.replace({'No internet service':'No_internet'})\n",
    "df['STREAMINGMOVIES'] = df['STREAMINGMOVIES'].replace({'No internet service':'No_internet'})\n",
    "df['ONLINEBACKUP'] = df['ONLINEBACKUP'].replace({'No internet service':'No_internet'})\n",
    "df['TECHSUPPORT'] =df['TECHSUPPORT'].replace({'No internet service':'No_internet'})"
   ]
  },
  {
   "cell_type": "code",
   "execution_count": 55,
   "id": "a0b9ad81-3a4a-420e-8c5d-4515c465b11c",
   "metadata": {},
   "outputs": [],
   "source": [
    "X = df.copy()\n",
    "y = X.pop('CHURN')\n",
    "X = pd.get_dummies(X,drop_first=True)"
   ]
  },
  {
   "cell_type": "code",
   "execution_count": 56,
   "id": "ff199786-e802-4186-9b2a-2bb0bb16e541",
   "metadata": {},
   "outputs": [
    {
     "data": {
      "text/html": [
       "<div>\n",
       "<style scoped>\n",
       "    .dataframe tbody tr th:only-of-type {\n",
       "        vertical-align: middle;\n",
       "    }\n",
       "\n",
       "    .dataframe tbody tr th {\n",
       "        vertical-align: top;\n",
       "    }\n",
       "\n",
       "    .dataframe thead th {\n",
       "        text-align: right;\n",
       "    }\n",
       "</style>\n",
       "<table border=\"1\" class=\"dataframe\">\n",
       "  <thead>\n",
       "    <tr style=\"text-align: right;\">\n",
       "      <th></th>\n",
       "      <th>TENURE</th>\n",
       "      <th>MONTHLYCHARGES</th>\n",
       "      <th>CONTRACT_One year</th>\n",
       "      <th>CONTRACT_Two year</th>\n",
       "      <th>TECHSUPPORT_No_internet</th>\n",
       "      <th>TECHSUPPORT_Yes</th>\n",
       "      <th>INTERNETSERVICE_Fiber optic</th>\n",
       "      <th>INTERNETSERVICE_No</th>\n",
       "      <th>ONLINESECURITY_No_internet</th>\n",
       "      <th>ONLINESECURITY_Yes</th>\n",
       "      <th>DEVICEPROTECTION_No_internet</th>\n",
       "      <th>DEVICEPROTECTION_Yes</th>\n",
       "      <th>PAYMENTMETHOD_Credit card (automatic)</th>\n",
       "      <th>PAYMENTMETHOD_Electronic check</th>\n",
       "      <th>PAYMENTMETHOD_Mailed check</th>\n",
       "      <th>STREAMINGMOVIES_No_internet</th>\n",
       "      <th>STREAMINGMOVIES_Yes</th>\n",
       "      <th>ONLINEBACKUP_No_internet</th>\n",
       "      <th>ONLINEBACKUP_Yes</th>\n",
       "    </tr>\n",
       "  </thead>\n",
       "  <tbody>\n",
       "    <tr>\n",
       "      <th>0</th>\n",
       "      <td>1</td>\n",
       "      <td>29.850</td>\n",
       "      <td>0</td>\n",
       "      <td>0</td>\n",
       "      <td>0</td>\n",
       "      <td>0</td>\n",
       "      <td>0</td>\n",
       "      <td>0</td>\n",
       "      <td>0</td>\n",
       "      <td>0</td>\n",
       "      <td>0</td>\n",
       "      <td>0</td>\n",
       "      <td>0</td>\n",
       "      <td>1</td>\n",
       "      <td>0</td>\n",
       "      <td>0</td>\n",
       "      <td>0</td>\n",
       "      <td>0</td>\n",
       "      <td>1</td>\n",
       "    </tr>\n",
       "    <tr>\n",
       "      <th>1</th>\n",
       "      <td>34</td>\n",
       "      <td>56.950</td>\n",
       "      <td>1</td>\n",
       "      <td>0</td>\n",
       "      <td>0</td>\n",
       "      <td>0</td>\n",
       "      <td>0</td>\n",
       "      <td>0</td>\n",
       "      <td>0</td>\n",
       "      <td>1</td>\n",
       "      <td>0</td>\n",
       "      <td>1</td>\n",
       "      <td>0</td>\n",
       "      <td>0</td>\n",
       "      <td>1</td>\n",
       "      <td>0</td>\n",
       "      <td>0</td>\n",
       "      <td>0</td>\n",
       "      <td>0</td>\n",
       "    </tr>\n",
       "    <tr>\n",
       "      <th>2</th>\n",
       "      <td>2</td>\n",
       "      <td>53.850</td>\n",
       "      <td>0</td>\n",
       "      <td>0</td>\n",
       "      <td>0</td>\n",
       "      <td>0</td>\n",
       "      <td>0</td>\n",
       "      <td>0</td>\n",
       "      <td>0</td>\n",
       "      <td>1</td>\n",
       "      <td>0</td>\n",
       "      <td>1</td>\n",
       "      <td>0</td>\n",
       "      <td>0</td>\n",
       "      <td>1</td>\n",
       "      <td>0</td>\n",
       "      <td>0</td>\n",
       "      <td>0</td>\n",
       "      <td>1</td>\n",
       "    </tr>\n",
       "    <tr>\n",
       "      <th>3</th>\n",
       "      <td>45</td>\n",
       "      <td>42.300</td>\n",
       "      <td>1</td>\n",
       "      <td>0</td>\n",
       "      <td>0</td>\n",
       "      <td>1</td>\n",
       "      <td>0</td>\n",
       "      <td>0</td>\n",
       "      <td>0</td>\n",
       "      <td>1</td>\n",
       "      <td>0</td>\n",
       "      <td>1</td>\n",
       "      <td>0</td>\n",
       "      <td>0</td>\n",
       "      <td>0</td>\n",
       "      <td>0</td>\n",
       "      <td>0</td>\n",
       "      <td>0</td>\n",
       "      <td>0</td>\n",
       "    </tr>\n",
       "    <tr>\n",
       "      <th>4</th>\n",
       "      <td>2</td>\n",
       "      <td>70.700</td>\n",
       "      <td>0</td>\n",
       "      <td>0</td>\n",
       "      <td>0</td>\n",
       "      <td>0</td>\n",
       "      <td>1</td>\n",
       "      <td>0</td>\n",
       "      <td>0</td>\n",
       "      <td>0</td>\n",
       "      <td>0</td>\n",
       "      <td>0</td>\n",
       "      <td>0</td>\n",
       "      <td>1</td>\n",
       "      <td>0</td>\n",
       "      <td>0</td>\n",
       "      <td>0</td>\n",
       "      <td>0</td>\n",
       "      <td>0</td>\n",
       "    </tr>\n",
       "  </tbody>\n",
       "</table>\n",
       "</div>"
      ],
      "text/plain": [
       "   TENURE  MONTHLYCHARGES  CONTRACT_One year  CONTRACT_Two year  TECHSUPPORT_No_internet  TECHSUPPORT_Yes  INTERNETSERVICE_Fiber optic  INTERNETSERVICE_No  ONLINESECURITY_No_internet  ONLINESECURITY_Yes  DEVICEPROTECTION_No_internet  DEVICEPROTECTION_Yes  PAYMENTMETHOD_Credit card (automatic)  PAYMENTMETHOD_Electronic check  PAYMENTMETHOD_Mailed check  STREAMINGMOVIES_No_internet  STREAMINGMOVIES_Yes  ONLINEBACKUP_No_internet  ONLINEBACKUP_Yes\n",
       "0       1          29.850                  0                  0                        0                0                            0                   0                           0                   0                             0                     0                                      0                               1                           0                            0                    0                         0                 1\n",
       "1      34          56.950                  1                  0                        0                0                            0                   0                           0                   1                             0                     1                                      0                               0                           1                            0                    0                         0                 0\n",
       "2       2          53.850                  0                  0                        0                0                            0                   0                           0                   1                             0                     1                                      0                               0                           1                            0                    0                         0                 1\n",
       "3      45          42.300                  1                  0                        0                1                            0                   0                           0                   1                             0                     1                                      0                               0                           0                            0                    0                         0                 0\n",
       "4       2          70.700                  0                  0                        0                0                            1                   0                           0                   0                             0                     0                                      0                               1                           0                            0                    0                         0                 0"
      ]
     },
     "execution_count": 56,
     "metadata": {},
     "output_type": "execute_result"
    }
   ],
   "source": [
    "X.head()"
   ]
  },
  {
   "cell_type": "markdown",
   "id": "ffcded12-2179-48d2-85fe-3b2952067114",
   "metadata": {},
   "source": [
    "### Hyperparameter Tuning"
   ]
  },
  {
   "cell_type": "code",
   "execution_count": 59,
   "id": "6b815f23-1f67-4372-a138-d6fce9eb9fb7",
   "metadata": {},
   "outputs": [
    {
     "name": "stdout",
     "output_type": "stream",
     "text": [
      "########## LR ##########\n",
      "AUC (Before): 0.8395\n",
      "AUC (After): 0.8396\n",
      "LR best params: {'C': 100, 'penalty': 'l2', 'solver': 'lbfgs'}\n",
      "\n",
      "########## CART ##########\n",
      "AUC (Before): 0.6554\n",
      "AUC (After): 0.8284\n",
      "CART best params: {'max_depth': 5, 'min_samples_split': 8}\n",
      "\n",
      "########## RF ##########\n",
      "AUC (Before): 0.7997\n",
      "AUC (After): 0.8429\n",
      "RF best params: {'max_depth': 8, 'n_estimators': 100}\n",
      "\n",
      "########## GBM ##########\n",
      "AUC (Before): 0.8447\n",
      "AUC (After): 0.8447\n",
      "GBM best params: {'learning_rate': 0.01, 'n_estimators': 300}\n",
      "\n",
      "########## XGBoost ##########\n",
      "AUC (Before): 0.8243\n",
      "AUC (After): 0.843\n",
      "XGBoost best params: {'colsample_bytree': 0.8, 'learning_rate': 0.1, 'max_depth': 5, 'n_estimators': 100}\n",
      "\n",
      "########## LightGBM ##########\n",
      "AUC (Before): 0.8351\n",
      "AUC (After): 0.8453\n",
      "LightGBM best params: {'colsample_bytree': 0.7, 'learning_rate': 0.01, 'n_estimators': 300}\n",
      "\n"
     ]
    }
   ],
   "source": [
    "lr_params = {'solver' : ['lbfgs'],\n",
    "             'penalty' : ['l2'],\n",
    "             'C' : [100, 10, 1.0, 0.1, 0.01]}\n",
    "\n",
    "cart_params = {'max_depth': range(1, 20),\n",
    "               \"min_samples_split\": range(2, 30)}\n",
    "\n",
    "rf_params = {\"max_depth\": [5, 8, 15, None],'n_estimators': [100,200,300]}\n",
    "\n",
    "xgboost_params = {\"learning_rate\": [0.1, 0.01],\n",
    "                  \"max_depth\": [5, 8, 12, 20],\n",
    "                  \"n_estimators\": [100, 200],\n",
    "                  \"colsample_bytree\": [0.5, 0.8, 1]}\n",
    "\n",
    "lightgbm_params = {\"learning_rate\": [0.01, 0.1],\n",
    "                   \"n_estimators\": [300, 500, 1500],\n",
    "                   \"colsample_bytree\": [0.5, 0.7, 1]}\n",
    "\n",
    "\n",
    "gbm_params =      {\"learning_rate\": [0.01, 0.1],\n",
    "                   \"n_estimators\": [300, 500, 1500],}\n",
    "\n",
    "\n",
    "classifiers = [('LR', LogisticRegression(), lr_params),\n",
    "               (\"CART\", DecisionTreeClassifier(random_state=1), cart_params),\n",
    "               (\"RF\", RandomForestClassifier(random_state=1), rf_params),\n",
    "               (\"GBM\", GradientBoostingClassifier(),gbm_params),\n",
    "               ('XGBoost', XGBClassifier(random_state=1,eval_metric='auc'), xgboost_params),\n",
    "               ('LightGBM', LGBMClassifier(random_state=1), lightgbm_params)]\n",
    "\n",
    "\n",
    "best_models = {}\n",
    "\n",
    "\n",
    "for name, classifier, params in classifiers:\n",
    "    print(f\"########## {name} ##########\")\n",
    "    cv_results = cross_validate(classifier, X, y, cv=10, scoring=[\"roc_auc\"])\n",
    "    print(f\"AUC (Before): {round(cv_results['test_roc_auc'].mean(),4)}\")\n",
    "\n",
    "    gs_best = GridSearchCV(classifier, params, cv=10, n_jobs=-1, verbose=False).fit(X, y)\n",
    "    final_model = classifier.set_params(**gs_best.best_params_)\n",
    "\n",
    "    cv_results = cross_validate(final_model, X, y, cv=10, scoring=[\"roc_auc\"])\n",
    "    print(f\"AUC (After): {round(cv_results['test_roc_auc'].mean(), 4)}\")\n",
    "    print(f\"{name} best params: {gs_best.best_params_}\", end=\"\\n\\n\")\n",
    "\n",
    "    best_models[name] = final_model"
   ]
  },
  {
   "cell_type": "markdown",
   "id": "59d6c157-9bc4-4c80-b08f-50314b6f2763",
   "metadata": {},
   "source": [
    "#### Ensemble Approach ( Voting Classifier )"
   ]
  },
  {
   "cell_type": "code",
   "execution_count": 60,
   "id": "4de9a51f-f1ef-4795-8a3d-e4b2e1b41835",
   "metadata": {},
   "outputs": [],
   "source": [
    "voting_clf = VotingClassifier(estimators=[('LightGBM',best_models['LightGBM']),\n",
    "                                          ('XGBoost',best_models['XGBoost']),\n",
    "                                          ('LogisticRegression',best_models['LR']),\n",
    "                                          ('GBM',best_models['GBM'])],\n",
    "                                           voting ='soft')\n"
   ]
  },
  {
   "cell_type": "code",
   "execution_count": 61,
   "id": "21477aaf-b2d7-4fa7-b2c2-dd2e7943330a",
   "metadata": {
    "tags": []
   },
   "outputs": [
    {
     "data": {
      "text/plain": [
       "VotingClassifier(estimators=[('LightGBM',\n",
       "                              LGBMClassifier(colsample_bytree=0.7,\n",
       "                                             learning_rate=0.01,\n",
       "                                             n_estimators=300,\n",
       "                                             random_state=1)),\n",
       "                             ('XGBoost',\n",
       "                              XGBClassifier(base_score=None, booster=None,\n",
       "                                            colsample_bylevel=None,\n",
       "                                            colsample_bynode=None,\n",
       "                                            colsample_bytree=0.8,\n",
       "                                            enable_categorical=False,\n",
       "                                            eval_metric='auc', gamma=None,\n",
       "                                            gpu_id=None, importance_type=None,\n",
       "                                            interaction_c...\n",
       "                                            monotone_constraints=None,\n",
       "                                            n_estimators=100, n_jobs=None,\n",
       "                                            num_parallel_tree=None,\n",
       "                                            predictor=None, random_state=1,\n",
       "                                            reg_alpha=None, reg_lambda=None,\n",
       "                                            scale_pos_weight=None,\n",
       "                                            subsample=None, tree_method=None,\n",
       "                                            validate_parameters=None,\n",
       "                                            verbosity=None)),\n",
       "                             ('LogisticRegression', LogisticRegression(C=100)),\n",
       "                             ('GBM',\n",
       "                              GradientBoostingClassifier(learning_rate=0.01,\n",
       "                                                         n_estimators=300))],\n",
       "                 voting='soft')"
      ]
     },
     "execution_count": 61,
     "metadata": {},
     "output_type": "execute_result"
    }
   ],
   "source": [
    "voting_clf.fit(X,y)"
   ]
  },
  {
   "cell_type": "code",
   "execution_count": 62,
   "id": "6ba87499-fa33-479d-b6ef-558a980e8b2b",
   "metadata": {},
   "outputs": [],
   "source": [
    "cv_result = cross_validate(voting_clf,X,y,cv=10,scoring=[\"accuracy\", \"f1\", \"roc_auc\"])"
   ]
  },
  {
   "cell_type": "code",
   "execution_count": 63,
   "id": "bfa81320-7910-4e11-8e27-f28a7d5f81da",
   "metadata": {},
   "outputs": [
    {
     "name": "stdout",
     "output_type": "stream",
     "text": [
      "Accuracy:  0.8010500856717963\n",
      "F1_Score:  0.5730062386950437\n",
      "Roc_auc_Score:  0.8469842119582017\n"
     ]
    }
   ],
   "source": [
    "print('Accuracy: ',cv_result['test_accuracy'].mean())\n",
    "print('F1_Score: ',cv_result['test_f1'].mean())\n",
    "print('Roc_auc_Score: ',cv_result['test_roc_auc'].mean())"
   ]
  },
  {
   "cell_type": "code",
   "execution_count": 65,
   "id": "242d9f9e-cc03-4c5f-b8a8-84d3f6509e57",
   "metadata": {},
   "outputs": [],
   "source": [
    "pickle.dump(voting_clf,open('model.pkl','wb'))"
   ]
  },
  {
   "cell_type": "code",
   "execution_count": 66,
   "id": "8154f6b7-9b22-4b67-95ec-173fd2c03e0b",
   "metadata": {},
   "outputs": [],
   "source": [
    "model = pickle.load(open('model.pkl','rb'))"
   ]
  },
  {
   "cell_type": "code",
   "execution_count": 67,
   "id": "3d2c5cd3-f6a2-4980-942d-6a3657de24a7",
   "metadata": {},
   "outputs": [
    {
     "data": {
      "text/plain": [
       "array([0, 1], dtype=int64)"
      ]
     },
     "execution_count": 67,
     "metadata": {},
     "output_type": "execute_result"
    }
   ],
   "source": [
    "model.predict(X.sample(2,random_state=1))"
   ]
  },
  {
   "cell_type": "code",
   "execution_count": 69,
   "id": "d2bef7ef-78b4-4afc-85b9-8d2358aacca4",
   "metadata": {},
   "outputs": [
    {
     "data": {
      "text/plain": [
       "'C:\\\\Users\\\\Ugur\\\\Desktop\\\\Hazir\\\\Customer_Churn_Analysis\\\\notebooks'"
      ]
     },
     "execution_count": 69,
     "metadata": {},
     "output_type": "execute_result"
    }
   ],
   "source": [
    "os.getcwd()"
   ]
  },
  {
   "cell_type": "code",
   "execution_count": 70,
   "id": "523fde3c-b00c-4988-9d56-cd8750f95bde",
   "metadata": {},
   "outputs": [
    {
     "name": "stdout",
     "output_type": "stream",
     "text": [
      "Churn Probability: % 2\n"
     ]
    }
   ],
   "source": [
    "print('Churn Probability: %',int(100*round(model.predict_proba(X.sample(1,random_state=1))[0][1],2)))"
   ]
  },
  {
   "cell_type": "code",
   "execution_count": 75,
   "id": "b93fa349-8c2f-4a7c-9b94-20aaffe6e8f1",
   "metadata": {},
   "outputs": [
    {
     "data": {
      "text/plain": [
       "array([[1],\n",
       "       [2],\n",
       "       [3],\n",
       "       [4]])"
      ]
     },
     "execution_count": 75,
     "metadata": {},
     "output_type": "execute_result"
    }
   ],
   "source": [
    "np.array([1,2,3,4]).reshape(-1,1)"
   ]
  },
  {
   "cell_type": "code",
   "execution_count": null,
   "id": "507e00a5-cda3-4417-9cc6-671f99eaf670",
   "metadata": {},
   "outputs": [],
   "source": []
  }
 ],
 "metadata": {
  "kernelspec": {
   "display_name": "ugur1",
   "language": "python",
   "name": "ugur1"
  },
  "language_info": {
   "codemirror_mode": {
    "name": "ipython",
    "version": 3
   },
   "file_extension": ".py",
   "mimetype": "text/x-python",
   "name": "python",
   "nbconvert_exporter": "python",
   "pygments_lexer": "ipython3",
   "version": "3.8.12"
  }
 },
 "nbformat": 4,
 "nbformat_minor": 5
}
