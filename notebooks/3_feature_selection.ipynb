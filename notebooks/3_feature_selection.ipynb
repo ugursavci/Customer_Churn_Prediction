{
 "cells": [
  {
   "cell_type": "markdown",
   "id": "f5f6f7b1-3876-44f1-ad38-e4055b9f919e",
   "metadata": {},
   "source": [
    "#### Importing Libraries"
   ]
  },
  {
   "cell_type": "code",
   "execution_count": null,
   "id": "4052d83c-7c53-4211-b91e-f2fc1e5eda38",
   "metadata": {
    "tags": []
   },
   "outputs": [],
   "source": [
    "import pandas as pd # data analysis\n",
    "import numpy as np # linear algebra\n",
    "\n",
    "import matplotlib.pyplot as plt # data_viz\n",
    "import seaborn as sns # data_viz\n",
    "import scipy.stats as stats\n",
    "\n",
    "### Config\n",
    "pd.set_option('display.max_columns', None)\n",
    "pd.set_option('display.max_rows', None)\n",
    "pd.set_option('display.float_format', lambda x: '%.3f' % x)\n",
    "pd.set_option('display.width', 500)\n",
    "pd.set_option('display.float_format', lambda x: '%.3f' % x)\n",
    "\n",
    "\n",
    "\n",
    "### Preprocessing\n",
    "from sklearn.preprocessing import StandardScaler\n",
    "from sklearn.model_selection import train_test_split\n",
    "from sklearn.model_selection import GridSearchCV\n",
    "from sklearn.model_selection import KFold,StratifiedKFold,cross_val_score,cross_validate\n",
    "from sklearn.preprocessing import OneHotEncoder,LabelEncoder,OrdinalEncoder\n",
    "\n",
    "### Feature Selection\n",
    "### Filtering\n",
    "from sklearn.feature_selection import chi2,f_classif,f_regression,mutual_info_classif,mutual_info_regression,RFE,SelectFromModel,SelectKBest,SelectPercentile\n",
    "from scipy.stats import chi2_contingency\n",
    "### Wrapper \n",
    "\n",
    "from sklearn.feature_selection import RFE\n",
    "\n",
    "\n",
    "\n",
    "\n",
    "\n",
    "### pipeline\n",
    "from sklearn.pipeline import Pipeline\n",
    "\n",
    "## Feature Selection\n",
    "from sklearn.feature_selection import chi2,f_regression,f_classif,mutual_info_classif,mutual_info_regression,RFECV\n",
    "from sklearn.feature_selection import SelectKBest,SelectPercentile,SelectFromModel\n",
    "\n",
    "\n",
    "### Machine Learning Model\n",
    "\n",
    "### Tree Based Algorithms\n",
    "\n",
    "from sklearn.tree import DecisionTreeRegressor,DecisionTreeClassifier\n",
    "from sklearn.ensemble import RandomForestClassifier,GradientBoostingClassifier,AdaBoostClassifier,VotingClassifier,VotingRegressor\n",
    "from xgboost import XGBClassifier,XGBRegressor\n",
    "from lightgbm import LGBMClassifier,LGBMRegressor\n",
    "\n",
    "### Linear Algoritms\n",
    "\n",
    "from sklearn.svm import SVC,SVR\n",
    "\n",
    "from sklearn.linear_model import LinearRegression,LogisticRegression,ElasticNet\n",
    "\n",
    "### Metrics ###\n",
    "from sklearn.metrics import classification_report,accuracy_score,roc_auc_score,confusion_matrix,recall_score,precision_score,f1_score,\\\n",
    "r2_score,mean_absolute_error,mean_squared_error\n",
    "\n",
    "#### Model Explain\n",
    "## Others\n",
    "## Warning\n",
    "import warnings\n",
    "warnings.filterwarnings('ignore')\n",
    "\n",
    "### Saving Model\n",
    "import pickle\n"
   ]
  },
  {
   "cell_type": "markdown",
   "id": "34cbde3b-3213-4410-9af0-004a4597f547",
   "metadata": {},
   "source": [
    "#### Reading Data"
   ]
  },
  {
   "cell_type": "code",
   "execution_count": 6,
   "id": "64557fec-1ea7-4991-acfd-b5b6d980093b",
   "metadata": {
    "tags": []
   },
   "outputs": [],
   "source": [
    "df = pd.read_csv('datasets\\preprocessed.csv')"
   ]
  },
  {
   "cell_type": "code",
   "execution_count": 8,
   "id": "a1a72d7c-c2c1-47f9-b53d-7b48131442ca",
   "metadata": {
    "tags": []
   },
   "outputs": [
    {
     "data": {
      "text/html": [
       "<div>\n",
       "<style scoped>\n",
       "    .dataframe tbody tr th:only-of-type {\n",
       "        vertical-align: middle;\n",
       "    }\n",
       "\n",
       "    .dataframe tbody tr th {\n",
       "        vertical-align: top;\n",
       "    }\n",
       "\n",
       "    .dataframe thead th {\n",
       "        text-align: right;\n",
       "    }\n",
       "</style>\n",
       "<table border=\"1\" class=\"dataframe\">\n",
       "  <thead>\n",
       "    <tr style=\"text-align: right;\">\n",
       "      <th></th>\n",
       "      <th>CUSTOMERID</th>\n",
       "      <th>GENDER</th>\n",
       "      <th>SENIORCITIZEN</th>\n",
       "      <th>PARTNER</th>\n",
       "      <th>DEPENDENTS</th>\n",
       "      <th>TENURE</th>\n",
       "      <th>PHONESERVICE</th>\n",
       "      <th>MULTIPLELINES</th>\n",
       "      <th>INTERNETSERVICE</th>\n",
       "      <th>ONLINESECURITY</th>\n",
       "      <th>ONLINEBACKUP</th>\n",
       "      <th>DEVICEPROTECTION</th>\n",
       "      <th>TECHSUPPORT</th>\n",
       "      <th>STREAMINGTV</th>\n",
       "      <th>STREAMINGMOVIES</th>\n",
       "      <th>CONTRACT</th>\n",
       "      <th>PAPERLESSBILLING</th>\n",
       "      <th>PAYMENTMETHOD</th>\n",
       "      <th>MONTHLYCHARGES</th>\n",
       "      <th>TOTALCHARGES</th>\n",
       "      <th>CHURN</th>\n",
       "      <th>NEW_AVG_CHARGES</th>\n",
       "      <th>NEW_AUTOMATIC_PAYMENT</th>\n",
       "      <th>NEW_TENURE_YEAR</th>\n",
       "    </tr>\n",
       "  </thead>\n",
       "  <tbody>\n",
       "    <tr>\n",
       "      <th>0</th>\n",
       "      <td>7590-VHVEG</td>\n",
       "      <td>Female</td>\n",
       "      <td>0</td>\n",
       "      <td>Yes</td>\n",
       "      <td>No</td>\n",
       "      <td>1</td>\n",
       "      <td>No</td>\n",
       "      <td>No phone service</td>\n",
       "      <td>DSL</td>\n",
       "      <td>No</td>\n",
       "      <td>Yes</td>\n",
       "      <td>No</td>\n",
       "      <td>No</td>\n",
       "      <td>No</td>\n",
       "      <td>No</td>\n",
       "      <td>Month-to-month</td>\n",
       "      <td>Yes</td>\n",
       "      <td>Electronic check</td>\n",
       "      <td>29.850</td>\n",
       "      <td>29.850</td>\n",
       "      <td>0</td>\n",
       "      <td>14.925</td>\n",
       "      <td>0</td>\n",
       "      <td>0</td>\n",
       "    </tr>\n",
       "    <tr>\n",
       "      <th>1</th>\n",
       "      <td>5575-GNVDE</td>\n",
       "      <td>Male</td>\n",
       "      <td>0</td>\n",
       "      <td>No</td>\n",
       "      <td>No</td>\n",
       "      <td>34</td>\n",
       "      <td>Yes</td>\n",
       "      <td>No</td>\n",
       "      <td>DSL</td>\n",
       "      <td>Yes</td>\n",
       "      <td>No</td>\n",
       "      <td>Yes</td>\n",
       "      <td>No</td>\n",
       "      <td>No</td>\n",
       "      <td>No</td>\n",
       "      <td>One year</td>\n",
       "      <td>No</td>\n",
       "      <td>Mailed check</td>\n",
       "      <td>56.950</td>\n",
       "      <td>1889.500</td>\n",
       "      <td>0</td>\n",
       "      <td>53.986</td>\n",
       "      <td>0</td>\n",
       "      <td>2</td>\n",
       "    </tr>\n",
       "    <tr>\n",
       "      <th>2</th>\n",
       "      <td>3668-QPYBK</td>\n",
       "      <td>Male</td>\n",
       "      <td>0</td>\n",
       "      <td>No</td>\n",
       "      <td>No</td>\n",
       "      <td>2</td>\n",
       "      <td>Yes</td>\n",
       "      <td>No</td>\n",
       "      <td>DSL</td>\n",
       "      <td>Yes</td>\n",
       "      <td>Yes</td>\n",
       "      <td>No</td>\n",
       "      <td>No</td>\n",
       "      <td>No</td>\n",
       "      <td>No</td>\n",
       "      <td>Month-to-month</td>\n",
       "      <td>Yes</td>\n",
       "      <td>Mailed check</td>\n",
       "      <td>53.850</td>\n",
       "      <td>108.150</td>\n",
       "      <td>1</td>\n",
       "      <td>36.050</td>\n",
       "      <td>0</td>\n",
       "      <td>0</td>\n",
       "    </tr>\n",
       "    <tr>\n",
       "      <th>3</th>\n",
       "      <td>7795-CFOCW</td>\n",
       "      <td>Male</td>\n",
       "      <td>0</td>\n",
       "      <td>No</td>\n",
       "      <td>No</td>\n",
       "      <td>45</td>\n",
       "      <td>No</td>\n",
       "      <td>No phone service</td>\n",
       "      <td>DSL</td>\n",
       "      <td>Yes</td>\n",
       "      <td>No</td>\n",
       "      <td>Yes</td>\n",
       "      <td>Yes</td>\n",
       "      <td>No</td>\n",
       "      <td>No</td>\n",
       "      <td>One year</td>\n",
       "      <td>No</td>\n",
       "      <td>Bank transfer (automatic)</td>\n",
       "      <td>42.300</td>\n",
       "      <td>1840.750</td>\n",
       "      <td>0</td>\n",
       "      <td>40.016</td>\n",
       "      <td>1</td>\n",
       "      <td>3</td>\n",
       "    </tr>\n",
       "    <tr>\n",
       "      <th>4</th>\n",
       "      <td>9237-HQITU</td>\n",
       "      <td>Female</td>\n",
       "      <td>0</td>\n",
       "      <td>No</td>\n",
       "      <td>No</td>\n",
       "      <td>2</td>\n",
       "      <td>Yes</td>\n",
       "      <td>No</td>\n",
       "      <td>Fiber optic</td>\n",
       "      <td>No</td>\n",
       "      <td>No</td>\n",
       "      <td>No</td>\n",
       "      <td>No</td>\n",
       "      <td>No</td>\n",
       "      <td>No</td>\n",
       "      <td>Month-to-month</td>\n",
       "      <td>Yes</td>\n",
       "      <td>Electronic check</td>\n",
       "      <td>70.700</td>\n",
       "      <td>151.650</td>\n",
       "      <td>1</td>\n",
       "      <td>50.550</td>\n",
       "      <td>0</td>\n",
       "      <td>0</td>\n",
       "    </tr>\n",
       "  </tbody>\n",
       "</table>\n",
       "</div>"
      ],
      "text/plain": [
       "   CUSTOMERID  GENDER  SENIORCITIZEN PARTNER DEPENDENTS  TENURE PHONESERVICE     MULTIPLELINES INTERNETSERVICE ONLINESECURITY ONLINEBACKUP DEVICEPROTECTION TECHSUPPORT STREAMINGTV STREAMINGMOVIES        CONTRACT PAPERLESSBILLING              PAYMENTMETHOD  MONTHLYCHARGES  TOTALCHARGES  CHURN  NEW_AVG_CHARGES  NEW_AUTOMATIC_PAYMENT  NEW_TENURE_YEAR\n",
       "0  7590-VHVEG  Female              0     Yes         No       1           No  No phone service             DSL             No          Yes               No          No          No              No  Month-to-month              Yes           Electronic check          29.850        29.850      0           14.925                      0                0\n",
       "1  5575-GNVDE    Male              0      No         No      34          Yes                No             DSL            Yes           No              Yes          No          No              No        One year               No               Mailed check          56.950      1889.500      0           53.986                      0                2\n",
       "2  3668-QPYBK    Male              0      No         No       2          Yes                No             DSL            Yes          Yes               No          No          No              No  Month-to-month              Yes               Mailed check          53.850       108.150      1           36.050                      0                0\n",
       "3  7795-CFOCW    Male              0      No         No      45           No  No phone service             DSL            Yes           No              Yes         Yes          No              No        One year               No  Bank transfer (automatic)          42.300      1840.750      0           40.016                      1                3\n",
       "4  9237-HQITU  Female              0      No         No       2          Yes                No     Fiber optic             No           No               No          No          No              No  Month-to-month              Yes           Electronic check          70.700       151.650      1           50.550                      0                0"
      ]
     },
     "execution_count": 8,
     "metadata": {},
     "output_type": "execute_result"
    }
   ],
   "source": [
    "df.head()"
   ]
  },
  {
   "cell_type": "markdown",
   "id": "51fa5a8a-45f6-4d54-93df-04f2f2f86f57",
   "metadata": {},
   "source": [
    "#### Dropping Customer ID "
   ]
  },
  {
   "cell_type": "code",
   "execution_count": 21,
   "id": "b1d9461b-2611-4b7f-8bc2-3815f711b0a6",
   "metadata": {},
   "outputs": [],
   "source": [
    "df.drop('CUSTOMERID',axis=1,inplace=True)"
   ]
  },
  {
   "cell_type": "code",
   "execution_count": 22,
   "id": "78844d7a-a323-4993-9ce2-9f86a5798c6f",
   "metadata": {
    "tags": []
   },
   "outputs": [],
   "source": [
    "def grab_col_names(dataframe, cat_th=10, car_th=20):\n",
    "\n",
    "    # cat_cols, cat_but_car\n",
    "    cat_cols = [col for col in dataframe.columns if dataframe[col].dtypes == \"O\"]\n",
    "\n",
    "    num_but_cat = [col for col in dataframe.columns if dataframe[col].nunique() < cat_th and\n",
    "                   dataframe[col].dtypes != \"O\"]\n",
    "\n",
    "    cat_but_car = [col for col in dataframe.columns if dataframe[col].nunique() > car_th and\n",
    "                   dataframe[col].dtypes == \"O\"]\n",
    "\n",
    "    cat_cols = cat_cols + num_but_cat\n",
    "\n",
    "    cat_cols = [col for col in cat_cols if col not in cat_but_car]\n",
    "\n",
    "    # num_cols\n",
    "    num_cols = [col for col in dataframe.columns if dataframe[col].dtypes != \"O\"]\n",
    "\n",
    "    num_cols = [col for col in num_cols if col not in num_but_cat]\n",
    "\n",
    "    print(f\"Observations: {dataframe.shape[0]}\")\n",
    "    print(f\"Variables: {dataframe.shape[1]}\")\n",
    "    print(f'cat_cols: {len(cat_cols)}')\n",
    "    print(f'num_cols: {len(num_cols)}')\n",
    "    print(f'cat_but_car: {len(cat_but_car)}')\n",
    "    print(f'num_but_cat: {len(num_but_cat)}')\n",
    "\n",
    "    return cat_cols, num_cols, cat_but_car"
   ]
  },
  {
   "cell_type": "markdown",
   "id": "a5a9f990-9fdc-4dff-8883-8268db31318f",
   "metadata": {},
   "source": [
    "### Getting Columns "
   ]
  },
  {
   "cell_type": "code",
   "execution_count": 23,
   "id": "2fcff2cb-bb81-43a3-949d-74ae1ee941c3",
   "metadata": {},
   "outputs": [
    {
     "name": "stdout",
     "output_type": "stream",
     "text": [
      "Observations: 7032\n",
      "Variables: 20\n",
      "cat_cols: 18\n",
      "num_cols: 2\n",
      "cat_but_car: 0\n",
      "num_but_cat: 3\n"
     ]
    }
   ],
   "source": [
    "cat_cols,num_cols,cat_but_car = grab_col_names(df)"
   ]
  },
  {
   "cell_type": "markdown",
   "id": "244250c2-978f-410f-8948-792214a60702",
   "metadata": {},
   "source": [
    "### Feature Selection using Different Methods"
   ]
  },
  {
   "cell_type": "markdown",
   "id": "a9901c23-10df-4ae9-b64b-f3c49f86dade",
   "metadata": {},
   "source": [
    "### Filter Methods"
   ]
  },
  {
   "cell_type": "markdown",
   "id": "af69ba08-f98a-4a5b-9162-7380b1a4390b",
   "metadata": {},
   "source": [
    "- **Correlation**\n",
    "- **Chisquare Analysis for Categorical Variables**\n",
    "- **Mutual Information**"
   ]
  },
  {
   "cell_type": "markdown",
   "id": "718564a0-8ce1-4525-9332-63c416335071",
   "metadata": {},
   "source": [
    "- Why do we need to select variables?\n",
    "- For production: fewer variables mean smaller client input requirements (e.g. customers filling out a form on a website or mobile app), and hence less code for error handling. This reduces the chances of bugs.\n",
    "- For model performance: Fewer variables mean simpler, more interpretable, less over-fitted models"
   ]
  },
  {
   "cell_type": "markdown",
   "id": "00afe159-d724-40e9-92ef-87f18bc13a99",
   "metadata": {},
   "source": [
    "#### Correlation"
   ]
  },
  {
   "cell_type": "code",
   "execution_count": 24,
   "id": "b82d6023-c7e6-45f9-ba20-a676d95fb3ff",
   "metadata": {
    "tags": []
   },
   "outputs": [
    {
     "data": {
      "image/png": "[encoded data removed]",
      "text/plain": [
       "<Figure size 1080x720 with 2 Axes>"
      ]
     },
     "metadata": {
      "needs_background": "light"
     },
     "output_type": "display_data"
    }
   ],
   "source": [
    "plt.figure(figsize=(15,10))\n",
    "sns.heatmap(df.corr(),annot=True,cmap='RdBu')\n",
    "plt.title('Correlation Analysis')\n",
    "plt.show()"
   ]
  },
  {
   "cell_type": "markdown",
   "id": "be0fd6af-f649-4092-b087-9a993007d23a",
   "metadata": {},
   "source": [
    "### Removing Correlated Features"
   ]
  },
  {
   "cell_type": "code",
   "execution_count": 25,
   "id": "dec9a7e5-7c93-44f1-a884-4d715f7737df",
   "metadata": {
    "tags": []
   },
   "outputs": [],
   "source": [
    "def correlation(dataset, threshold):\n",
    "    \n",
    "    col_corr = set()  # Set of all the names of correlated columns\n",
    "    corr_matrix = dataset.corr()\n",
    "    \n",
    "    for i in range(len(corr_matrix.columns)):\n",
    "        for j in range(i):\n",
    "            if abs(corr_matrix.iloc[i, j]) > threshold:\n",
    "                colname = corr_matrix.columns[i]  # getting the name of column\n",
    "                col_corr.add(colname)\n",
    "    \n",
    "    return col_corr"
   ]
  },
  {
   "cell_type": "code",
   "execution_count": 26,
   "id": "390989a4-7fad-4f1f-91d2-46cc8bfb9430",
   "metadata": {},
   "outputs": [
    {
     "data": {
      "text/plain": [
       "set()"
      ]
     },
     "execution_count": 26,
     "metadata": {},
     "output_type": "execute_result"
    }
   ],
   "source": [
    "corr_features = correlation(df, 0.8)\n",
    "corr_features"
   ]
  },
  {
   "cell_type": "code",
   "execution_count": 27,
   "id": "2db2388e-00fc-4f23-b174-6befd5dfd623",
   "metadata": {},
   "outputs": [],
   "source": [
    "df = df.drop(corr_features,axis=1)"
   ]
  },
  {
   "cell_type": "markdown",
   "id": "3de222a8-99eb-47ea-82ff-46ae21915bd0",
   "metadata": {},
   "source": [
    "### Chisquare Analysis for Categorical Columns"
   ]
  },
  {
   "cell_type": "code",
   "execution_count": 28,
   "id": "ae2cd56a-9c5b-4b5c-8c6d-a3b5892bed8c",
   "metadata": {},
   "outputs": [],
   "source": [
    "categorical_columns = [i for i in df.columns if df[i].dtype == 'O']"
   ]
  },
  {
   "cell_type": "code",
   "execution_count": 29,
   "id": "7b6d0032-2449-4a8a-97b6-39ad43ba4a9f",
   "metadata": {},
   "outputs": [
    {
     "data": {
      "text/plain": [
       "['GENDER',\n",
       " 'PARTNER',\n",
       " 'DEPENDENTS',\n",
       " 'PHONESERVICE',\n",
       " 'MULTIPLELINES',\n",
       " 'INTERNETSERVICE',\n",
       " 'ONLINESECURITY',\n",
       " 'ONLINEBACKUP',\n",
       " 'DEVICEPROTECTION',\n",
       " 'TECHSUPPORT',\n",
       " 'STREAMINGTV',\n",
       " 'STREAMINGMOVIES',\n",
       " 'CONTRACT',\n",
       " 'PAPERLESSBILLING',\n",
       " 'PAYMENTMETHOD']"
      ]
     },
     "execution_count": 29,
     "metadata": {},
     "output_type": "execute_result"
    }
   ],
   "source": [
    "categorical_columns"
   ]
  },
  {
   "cell_type": "code",
   "execution_count": 30,
   "id": "b374c258-06aa-4c36-be35-e9ced7eee336",
   "metadata": {
    "tags": []
   },
   "outputs": [],
   "source": [
    "def chi_square_analysis(dataframe,target,categorical_columns):\n",
    "    chi2_check = []\n",
    "    for variable in categorical_columns:\n",
    "        if chi2_contingency(pd.crosstab(dataframe[target], dataframe[variable]))[1] < 0.05:\n",
    "            chi2_check.append('Reject Null Hypothesis')\n",
    "        else:\n",
    "            chi2_check.append('Failed to Reject Null Hypothesis')\n",
    "    res = pd.DataFrame(data = [categorical_columns, chi2_check] ).T \n",
    "    res.columns = ['Variable', 'Hypothesis']\n",
    "    res = res.sort_values(by='Hypothesis')\n",
    "    return res"
   ]
  },
  {
   "cell_type": "code",
   "execution_count": 31,
   "id": "f1693290-f91b-49cc-97f4-5779cfac4721",
   "metadata": {
    "tags": []
   },
   "outputs": [
    {
     "data": {
      "text/html": [
       "<div>\n",
       "<style scoped>\n",
       "    .dataframe tbody tr th:only-of-type {\n",
       "        vertical-align: middle;\n",
       "    }\n",
       "\n",
       "    .dataframe tbody tr th {\n",
       "        vertical-align: top;\n",
       "    }\n",
       "\n",
       "    .dataframe thead th {\n",
       "        text-align: right;\n",
       "    }\n",
       "</style>\n",
       "<table border=\"1\" class=\"dataframe\">\n",
       "  <thead>\n",
       "    <tr style=\"text-align: right;\">\n",
       "      <th></th>\n",
       "      <th>Variable</th>\n",
       "      <th>Hypothesis</th>\n",
       "    </tr>\n",
       "  </thead>\n",
       "  <tbody>\n",
       "    <tr>\n",
       "      <th>0</th>\n",
       "      <td>GENDER</td>\n",
       "      <td>Failed to Reject Null Hypothesis</td>\n",
       "    </tr>\n",
       "    <tr>\n",
       "      <th>3</th>\n",
       "      <td>PHONESERVICE</td>\n",
       "      <td>Failed to Reject Null Hypothesis</td>\n",
       "    </tr>\n",
       "    <tr>\n",
       "      <th>1</th>\n",
       "      <td>PARTNER</td>\n",
       "      <td>Reject Null Hypothesis</td>\n",
       "    </tr>\n",
       "    <tr>\n",
       "      <th>2</th>\n",
       "      <td>DEPENDENTS</td>\n",
       "      <td>Reject Null Hypothesis</td>\n",
       "    </tr>\n",
       "    <tr>\n",
       "      <th>4</th>\n",
       "      <td>MULTIPLELINES</td>\n",
       "      <td>Reject Null Hypothesis</td>\n",
       "    </tr>\n",
       "    <tr>\n",
       "      <th>5</th>\n",
       "      <td>INTERNETSERVICE</td>\n",
       "      <td>Reject Null Hypothesis</td>\n",
       "    </tr>\n",
       "    <tr>\n",
       "      <th>6</th>\n",
       "      <td>ONLINESECURITY</td>\n",
       "      <td>Reject Null Hypothesis</td>\n",
       "    </tr>\n",
       "    <tr>\n",
       "      <th>7</th>\n",
       "      <td>ONLINEBACKUP</td>\n",
       "      <td>Reject Null Hypothesis</td>\n",
       "    </tr>\n",
       "    <tr>\n",
       "      <th>8</th>\n",
       "      <td>DEVICEPROTECTION</td>\n",
       "      <td>Reject Null Hypothesis</td>\n",
       "    </tr>\n",
       "    <tr>\n",
       "      <th>9</th>\n",
       "      <td>TECHSUPPORT</td>\n",
       "      <td>Reject Null Hypothesis</td>\n",
       "    </tr>\n",
       "    <tr>\n",
       "      <th>10</th>\n",
       "      <td>STREAMINGTV</td>\n",
       "      <td>Reject Null Hypothesis</td>\n",
       "    </tr>\n",
       "    <tr>\n",
       "      <th>11</th>\n",
       "      <td>STREAMINGMOVIES</td>\n",
       "      <td>Reject Null Hypothesis</td>\n",
       "    </tr>\n",
       "    <tr>\n",
       "      <th>12</th>\n",
       "      <td>CONTRACT</td>\n",
       "      <td>Reject Null Hypothesis</td>\n",
       "    </tr>\n",
       "    <tr>\n",
       "      <th>13</th>\n",
       "      <td>PAPERLESSBILLING</td>\n",
       "      <td>Reject Null Hypothesis</td>\n",
       "    </tr>\n",
       "    <tr>\n",
       "      <th>14</th>\n",
       "      <td>PAYMENTMETHOD</td>\n",
       "      <td>Reject Null Hypothesis</td>\n",
       "    </tr>\n",
       "  </tbody>\n",
       "</table>\n",
       "</div>"
      ],
      "text/plain": [
       "            Variable                        Hypothesis\n",
       "0             GENDER  Failed to Reject Null Hypothesis\n",
       "3       PHONESERVICE  Failed to Reject Null Hypothesis\n",
       "1            PARTNER            Reject Null Hypothesis\n",
       "2         DEPENDENTS            Reject Null Hypothesis\n",
       "4      MULTIPLELINES            Reject Null Hypothesis\n",
       "5    INTERNETSERVICE            Reject Null Hypothesis\n",
       "6     ONLINESECURITY            Reject Null Hypothesis\n",
       "7       ONLINEBACKUP            Reject Null Hypothesis\n",
       "8   DEVICEPROTECTION            Reject Null Hypothesis\n",
       "9        TECHSUPPORT            Reject Null Hypothesis\n",
       "10       STREAMINGTV            Reject Null Hypothesis\n",
       "11   STREAMINGMOVIES            Reject Null Hypothesis\n",
       "12          CONTRACT            Reject Null Hypothesis\n",
       "13  PAPERLESSBILLING            Reject Null Hypothesis\n",
       "14     PAYMENTMETHOD            Reject Null Hypothesis"
      ]
     },
     "execution_count": 31,
     "metadata": {},
     "output_type": "execute_result"
    }
   ],
   "source": [
    "chi_square_analysis(df,'CHURN',categorical_columns)"
   ]
  },
  {
   "cell_type": "markdown",
   "id": "f7cc53e1-ac90-4961-8102-f8f139d1979d",
   "metadata": {},
   "source": [
    "-  Gender and Phoneservice are not significance "
   ]
  },
  {
   "cell_type": "markdown",
   "id": "bb4bcbf2-227f-4586-9b46-e32707117a28",
   "metadata": {},
   "source": [
    "### Mutual Information"
   ]
  },
  {
   "cell_type": "code",
   "execution_count": 32,
   "id": "19207175-731e-44d2-93fb-8c360759a219",
   "metadata": {
    "tags": []
   },
   "outputs": [
    {
     "data": {
      "image/png": "[encoded data removed]",
      "text/plain": [
       "<Figure size 800x500 with 1 Axes>"
      ]
     },
     "metadata": {
      "needs_background": "light"
     },
     "output_type": "display_data"
    }
   ],
   "source": [
    "X = df.copy()\n",
    "y = X.pop('CHURN')\n",
    "\n",
    "for colname in X.select_dtypes(\"object\"):\n",
    "    X[colname], _ = X[colname].factorize()\n",
    "\n",
    "    \n",
    "discrete_features = X.dtypes == int\n",
    "\n",
    "\n",
    "def make_mi_scores(X, y, discrete_features):\n",
    "    \n",
    "    \n",
    "    \n",
    "    mi_scores = mutual_info_classif(X, y, discrete_features=discrete_features)\n",
    "    mi_scores = pd.Series(mi_scores, name=\"MI Scores\", index=X.columns)\n",
    "    mi_scores = mi_scores.sort_values(ascending=False)\n",
    "    return mi_scores\n",
    "\n",
    "mi_scores = make_mi_scores(X, y, discrete_features)\n",
    "\n",
    "def plot_mi_scores(scores):\n",
    "    scores = scores.sort_values(ascending=True)\n",
    "    width = np.arange(len(scores))\n",
    "    ticks = list(scores.index)\n",
    "    plt.barh(width, scores)\n",
    "    plt.yticks(width, ticks)\n",
    "    plt.title(\"Mutual Information Scores\")\n",
    "\n",
    "\n",
    "plt.figure(dpi=100, figsize=(8, 5))\n",
    "plot_mi_scores(mi_scores)"
   ]
  },
  {
   "cell_type": "markdown",
   "id": "641ceb31-1b8f-48c8-beed-e3e583c6e251",
   "metadata": {},
   "source": [
    "#### - We see that Gender,Multiple Lines has 0 score "
   ]
  },
  {
   "cell_type": "code",
   "execution_count": 33,
   "id": "a647a958-eff7-4156-9b27-db11c9abea2f",
   "metadata": {},
   "outputs": [],
   "source": [
    "def filter_by_mi_scores(dataframe,score,mi_scores,target):\n",
    "    list_ = mi_scores[mi_scores>score].index\n",
    "    return pd.concat([dataframe[list_],df[target]],axis=1)"
   ]
  },
  {
   "cell_type": "markdown",
   "id": "bc01f7c7-eaca-4e44-899f-fc2b6cc1ce3b",
   "metadata": {},
   "source": [
    "#### Creating MI Scores "
   ]
  },
  {
   "cell_type": "code",
   "execution_count": 47,
   "id": "cb0719bb-81ef-4073-a340-0090331af8d5",
   "metadata": {},
   "outputs": [],
   "source": [
    "df2 = filter_by_mi_scores(df,0.03,mi_scores,'CHURN')"
   ]
  },
  {
   "cell_type": "code",
   "execution_count": 48,
   "id": "ecfbdbc1-065f-46a0-83ec-68b477a6a7dd",
   "metadata": {},
   "outputs": [],
   "source": [
    "X = df2.copy()\n",
    "y = X.pop('CHURN')\n",
    "X = pd.get_dummies(X)"
   ]
  },
  {
   "cell_type": "code",
   "execution_count": 49,
   "id": "0899d566-d20f-4dd3-a801-da4f6b548fa5",
   "metadata": {},
   "outputs": [
    {
     "name": "stdout",
     "output_type": "stream",
     "text": [
      "Total Columns :  11\n"
     ]
    },
    {
     "data": {
      "text/html": [
       "<div>\n",
       "<style scoped>\n",
       "    .dataframe tbody tr th:only-of-type {\n",
       "        vertical-align: middle;\n",
       "    }\n",
       "\n",
       "    .dataframe tbody tr th {\n",
       "        vertical-align: top;\n",
       "    }\n",
       "\n",
       "    .dataframe thead th {\n",
       "        text-align: right;\n",
       "    }\n",
       "</style>\n",
       "<table border=\"1\" class=\"dataframe\">\n",
       "  <thead>\n",
       "    <tr style=\"text-align: right;\">\n",
       "      <th></th>\n",
       "      <th>CONTRACT</th>\n",
       "      <th>TENURE</th>\n",
       "      <th>TECHSUPPORT</th>\n",
       "      <th>INTERNETSERVICE</th>\n",
       "      <th>ONLINESECURITY</th>\n",
       "      <th>DEVICEPROTECTION</th>\n",
       "      <th>MONTHLYCHARGES</th>\n",
       "      <th>PAYMENTMETHOD</th>\n",
       "      <th>STREAMINGMOVIES</th>\n",
       "      <th>ONLINEBACKUP</th>\n",
       "      <th>CHURN</th>\n",
       "    </tr>\n",
       "  </thead>\n",
       "  <tbody>\n",
       "    <tr>\n",
       "      <th>0</th>\n",
       "      <td>Month-to-month</td>\n",
       "      <td>1</td>\n",
       "      <td>No</td>\n",
       "      <td>DSL</td>\n",
       "      <td>No</td>\n",
       "      <td>No</td>\n",
       "      <td>29.850</td>\n",
       "      <td>Electronic check</td>\n",
       "      <td>No</td>\n",
       "      <td>Yes</td>\n",
       "      <td>0</td>\n",
       "    </tr>\n",
       "    <tr>\n",
       "      <th>1</th>\n",
       "      <td>One year</td>\n",
       "      <td>34</td>\n",
       "      <td>No</td>\n",
       "      <td>DSL</td>\n",
       "      <td>Yes</td>\n",
       "      <td>Yes</td>\n",
       "      <td>56.950</td>\n",
       "      <td>Mailed check</td>\n",
       "      <td>No</td>\n",
       "      <td>No</td>\n",
       "      <td>0</td>\n",
       "    </tr>\n",
       "    <tr>\n",
       "      <th>2</th>\n",
       "      <td>Month-to-month</td>\n",
       "      <td>2</td>\n",
       "      <td>No</td>\n",
       "      <td>DSL</td>\n",
       "      <td>Yes</td>\n",
       "      <td>No</td>\n",
       "      <td>53.850</td>\n",
       "      <td>Mailed check</td>\n",
       "      <td>No</td>\n",
       "      <td>Yes</td>\n",
       "      <td>1</td>\n",
       "    </tr>\n",
       "    <tr>\n",
       "      <th>3</th>\n",
       "      <td>One year</td>\n",
       "      <td>45</td>\n",
       "      <td>Yes</td>\n",
       "      <td>DSL</td>\n",
       "      <td>Yes</td>\n",
       "      <td>Yes</td>\n",
       "      <td>42.300</td>\n",
       "      <td>Bank transfer (automatic)</td>\n",
       "      <td>No</td>\n",
       "      <td>No</td>\n",
       "      <td>0</td>\n",
       "    </tr>\n",
       "    <tr>\n",
       "      <th>4</th>\n",
       "      <td>Month-to-month</td>\n",
       "      <td>2</td>\n",
       "      <td>No</td>\n",
       "      <td>Fiber optic</td>\n",
       "      <td>No</td>\n",
       "      <td>No</td>\n",
       "      <td>70.700</td>\n",
       "      <td>Electronic check</td>\n",
       "      <td>No</td>\n",
       "      <td>No</td>\n",
       "      <td>1</td>\n",
       "    </tr>\n",
       "  </tbody>\n",
       "</table>\n",
       "</div>"
      ],
      "text/plain": [
       "         CONTRACT  TENURE TECHSUPPORT INTERNETSERVICE ONLINESECURITY DEVICEPROTECTION  MONTHLYCHARGES              PAYMENTMETHOD STREAMINGMOVIES ONLINEBACKUP  CHURN\n",
       "0  Month-to-month       1          No             DSL             No               No          29.850           Electronic check              No          Yes      0\n",
       "1        One year      34          No             DSL            Yes              Yes          56.950               Mailed check              No           No      0\n",
       "2  Month-to-month       2          No             DSL            Yes               No          53.850               Mailed check              No          Yes      1\n",
       "3        One year      45         Yes             DSL            Yes              Yes          42.300  Bank transfer (automatic)              No           No      0\n",
       "4  Month-to-month       2          No     Fiber optic             No               No          70.700           Electronic check              No           No      1"
      ]
     },
     "execution_count": 49,
     "metadata": {},
     "output_type": "execute_result"
    }
   ],
   "source": [
    "print('Total Columns : ',df2.shape[1])\n",
    "df2.head()"
   ]
  },
  {
   "cell_type": "markdown",
   "id": "7d0a5e22-077d-41e4-99dc-d5e112002410",
   "metadata": {},
   "source": [
    "#### Checking Model with filtered features using Mutual Information"
   ]
  },
  {
   "cell_type": "code",
   "execution_count": 163,
   "id": "2190b652-9517-4d00-86ef-d80b7be3f4d9",
   "metadata": {},
   "outputs": [
    {
     "name": "stdout",
     "output_type": "stream",
     "text": [
      "  LR:Accuracy: 0.793, F1_Score: 0.573, Roc_auc_score:0.84, Recall: 0.522, Precision: 0.635\n",
      "  CART:Accuracy: 0.724, F1_Score: 0.489, Roc_auc_score:0.657, Recall: 0.498, Precision: 0.482\n",
      "  RF:Accuracy: 0.772, F1_Score: 0.53, Roc_auc_score:0.8, Recall: 0.484, Precision: 0.587\n",
      "  SVC:Accuracy: 0.79, F1_Score: 0.5, Roc_auc_score:0.794, Recall: 0.396, Precision: 0.681\n",
      "  GBM:Accuracy: 0.799, F1_Score: 0.578, Roc_auc_score:0.844, Recall: 0.518, Precision: 0.654\n",
      "  XGBoost:Accuracy: 0.786, F1_Score: 0.563, Roc_auc_score:0.825, Recall: 0.519, Precision: 0.617\n",
      "  LightGBM:Accuracy: 0.794, F1_Score: 0.574, Roc_auc_score:0.834, Recall: 0.521, Precision: 0.639\n"
     ]
    }
   ],
   "source": [
    "        models = [('LR', LogisticRegression()),\n",
    "                  ('CART', DecisionTreeClassifier(random_state=1)),\n",
    "                  ('RF', RandomForestClassifier(random_state=1,n_estimators=300)),\n",
    "                  ('SVC', SVC(random_state=1)),\n",
    "                  ('GBM', GradientBoostingClassifier(random_state=1)),\n",
    "                  (\"XGBoost\", XGBClassifier(eval_metric='logloss')),\n",
    "                  (\"LightGBM\", LGBMClassifier(random_state=1))]\n",
    "\n",
    "        for name, classifier in models:\n",
    "            cv_results = cross_validate(classifier, X, y, cv=10, scoring=[\"accuracy\", \"f1\", \"roc_auc\",'recall','precision'])\n",
    "            accuracy = cv_results['test_accuracy'].mean()\n",
    "            f1_score = cv_results['test_f1'].mean()\n",
    "            roc_auc_score = cv_results['test_roc_auc'].mean()\n",
    "            recall_score = cv_results['test_recall'].mean()\n",
    "            precision_score = cv_results['test_precision'].mean()\n",
    "            print(f'  {name}:Accuracy: {round(accuracy, 3)}, F1_Score: {round(f1_score, 3)}, Roc_auc_score:{round(roc_auc_score, 3)}, Recall: {round(recall_score, 3)}, Precision: {round(precision_score, 3)}')"
   ]
  },
  {
   "cell_type": "markdown",
   "id": "7e6f51f9-cd12-4249-8536-0e83573197a0",
   "metadata": {},
   "source": [
    "#### Model Performance without Gender ,Phone Service"
   ]
  },
  {
   "cell_type": "markdown",
   "id": "94a26fdb-2a3a-447c-a31c-8d8df0904c16",
   "metadata": {},
   "source": [
    "#### Feature Selection with SHAP"
   ]
  },
  {
   "cell_type": "code",
   "execution_count": 37,
   "id": "b7fb781d-4aa1-4b7b-8ef0-6964ecbf9a4e",
   "metadata": {},
   "outputs": [],
   "source": [
    "X = df.copy()\n",
    "y = X.pop('CHURN')\n",
    "\n",
    "X = pd.get_dummies(X)"
   ]
  },
  {
   "cell_type": "code",
   "execution_count": 38,
   "id": "65f38e10-07d4-43fb-8054-10f3728bd544",
   "metadata": {},
   "outputs": [],
   "source": [
    "model = XGBClassifier(eval_metric='logloss')"
   ]
  },
  {
   "cell_type": "code",
   "execution_count": 39,
   "id": "ca4ca322-5fb3-4feb-b010-8649528bea6a",
   "metadata": {},
   "outputs": [
    {
     "data": {
      "text/plain": [
       "XGBClassifier(base_score=0.5, booster='gbtree', colsample_bylevel=1,\n",
       "              colsample_bynode=1, colsample_bytree=1, enable_categorical=False,\n",
       "              eval_metric='logloss', gamma=0, gpu_id=-1, importance_type=None,\n",
       "              interaction_constraints='', learning_rate=0.300000012,\n",
       "              max_delta_step=0, max_depth=6, min_child_weight=1, missing=nan,\n",
       "              monotone_constraints='()', n_estimators=100, n_jobs=8,\n",
       "              num_parallel_tree=1, predictor='auto', random_state=0,\n",
       "              reg_alpha=0, reg_lambda=1, scale_pos_weight=1, subsample=1,\n",
       "              tree_method='exact', validate_parameters=1, verbosity=None)"
      ]
     },
     "execution_count": 39,
     "metadata": {},
     "output_type": "execute_result"
    }
   ],
   "source": [
    "model.fit(X,y)"
   ]
  },
  {
   "cell_type": "code",
   "execution_count": 40,
   "id": "ab230b20-bc84-4cf0-9c01-fca8ccb2d29b",
   "metadata": {
    "collapsed": true,
    "jupyter": {
     "outputs_hidden": true
    },
    "tags": []
   },
   "outputs": [
    {
     "ename": "NameError",
     "evalue": "name 'shap' is not defined",
     "output_type": "error",
     "traceback": [
      "\u001b[1;31m---------------------------------------------------------------------------\u001b[0m",
      "\u001b[1;31mNameError\u001b[0m                                 Traceback (most recent call last)",
      "\u001b[1;32m<ipython-input-40-5c713ec694d6>\u001b[0m in \u001b[0;36m<module>\u001b[1;34m\u001b[0m\n\u001b[1;32m----> 1\u001b[1;33m \u001b[0mexplainer\u001b[0m \u001b[1;33m=\u001b[0m \u001b[0mshap\u001b[0m\u001b[1;33m.\u001b[0m\u001b[0mExplainer\u001b[0m\u001b[1;33m(\u001b[0m\u001b[0mmodel\u001b[0m\u001b[1;33m)\u001b[0m\u001b[1;33m\u001b[0m\u001b[1;33m\u001b[0m\u001b[0m\n\u001b[0m",
      "\u001b[1;31mNameError\u001b[0m: name 'shap' is not defined"
     ]
    }
   ],
   "source": [
    "explainer = shap.Explainer(model)"
   ]
  },
  {
   "cell_type": "code",
   "execution_count": 137,
   "id": "a1b31244-b058-402a-9c2d-0d3c153971bf",
   "metadata": {},
   "outputs": [],
   "source": [
    "shap_values = explainer.shap_values(X)"
   ]
  },
  {
   "cell_type": "code",
   "execution_count": 138,
   "id": "f824ea25-df85-4caa-a777-1ccd46cc644b",
   "metadata": {},
   "outputs": [
    {
     "data": {
      "image/png": "[encoded data removed]",
      "text/plain": [
       "<Figure size 576x684 with 2 Axes>"
      ]
     },
     "metadata": {
      "needs_background": "light"
     },
     "output_type": "display_data"
    }
   ],
   "source": [
    "shap.summary_plot(shap_values, features=X, feature_names=X.columns)"
   ]
  },
  {
   "cell_type": "code",
   "execution_count": 46,
   "id": "a800c740-14af-4b70-ad22-c53510d79b3f",
   "metadata": {},
   "outputs": [
    {
     "data": {
      "text/html": [
       "<div>\n",
       "<style scoped>\n",
       "    .dataframe tbody tr th:only-of-type {\n",
       "        vertical-align: middle;\n",
       "    }\n",
       "\n",
       "    .dataframe tbody tr th {\n",
       "        vertical-align: top;\n",
       "    }\n",
       "\n",
       "    .dataframe thead th {\n",
       "        text-align: right;\n",
       "    }\n",
       "</style>\n",
       "<table border=\"1\" class=\"dataframe\">\n",
       "  <thead>\n",
       "    <tr style=\"text-align: right;\">\n",
       "      <th></th>\n",
       "      <th>GENDER</th>\n",
       "      <th>SENIORCITIZEN</th>\n",
       "      <th>PARTNER</th>\n",
       "      <th>DEPENDENTS</th>\n",
       "      <th>TENURE</th>\n",
       "      <th>PHONESERVICE</th>\n",
       "      <th>MULTIPLELINES</th>\n",
       "      <th>INTERNETSERVICE</th>\n",
       "      <th>ONLINESECURITY</th>\n",
       "      <th>ONLINEBACKUP</th>\n",
       "      <th>DEVICEPROTECTION</th>\n",
       "      <th>TECHSUPPORT</th>\n",
       "      <th>STREAMINGTV</th>\n",
       "      <th>STREAMINGMOVIES</th>\n",
       "      <th>CONTRACT</th>\n",
       "      <th>PAPERLESSBILLING</th>\n",
       "      <th>PAYMENTMETHOD</th>\n",
       "      <th>MONTHLYCHARGES</th>\n",
       "      <th>CHURN</th>\n",
       "      <th>NEW_AUTOMATIC_PAYMENT</th>\n",
       "    </tr>\n",
       "  </thead>\n",
       "  <tbody>\n",
       "    <tr>\n",
       "      <th>0</th>\n",
       "      <td>Female</td>\n",
       "      <td>0</td>\n",
       "      <td>Yes</td>\n",
       "      <td>No</td>\n",
       "      <td>1</td>\n",
       "      <td>No</td>\n",
       "      <td>No phone service</td>\n",
       "      <td>DSL</td>\n",
       "      <td>No</td>\n",
       "      <td>Yes</td>\n",
       "      <td>No</td>\n",
       "      <td>No</td>\n",
       "      <td>No</td>\n",
       "      <td>No</td>\n",
       "      <td>Month-to-month</td>\n",
       "      <td>Yes</td>\n",
       "      <td>Electronic check</td>\n",
       "      <td>29.850</td>\n",
       "      <td>0</td>\n",
       "      <td>0</td>\n",
       "    </tr>\n",
       "    <tr>\n",
       "      <th>1</th>\n",
       "      <td>Male</td>\n",
       "      <td>0</td>\n",
       "      <td>No</td>\n",
       "      <td>No</td>\n",
       "      <td>34</td>\n",
       "      <td>Yes</td>\n",
       "      <td>No</td>\n",
       "      <td>DSL</td>\n",
       "      <td>Yes</td>\n",
       "      <td>No</td>\n",
       "      <td>Yes</td>\n",
       "      <td>No</td>\n",
       "      <td>No</td>\n",
       "      <td>No</td>\n",
       "      <td>One year</td>\n",
       "      <td>No</td>\n",
       "      <td>Mailed check</td>\n",
       "      <td>56.950</td>\n",
       "      <td>0</td>\n",
       "      <td>0</td>\n",
       "    </tr>\n",
       "    <tr>\n",
       "      <th>2</th>\n",
       "      <td>Male</td>\n",
       "      <td>0</td>\n",
       "      <td>No</td>\n",
       "      <td>No</td>\n",
       "      <td>2</td>\n",
       "      <td>Yes</td>\n",
       "      <td>No</td>\n",
       "      <td>DSL</td>\n",
       "      <td>Yes</td>\n",
       "      <td>Yes</td>\n",
       "      <td>No</td>\n",
       "      <td>No</td>\n",
       "      <td>No</td>\n",
       "      <td>No</td>\n",
       "      <td>Month-to-month</td>\n",
       "      <td>Yes</td>\n",
       "      <td>Mailed check</td>\n",
       "      <td>53.850</td>\n",
       "      <td>1</td>\n",
       "      <td>0</td>\n",
       "    </tr>\n",
       "    <tr>\n",
       "      <th>3</th>\n",
       "      <td>Male</td>\n",
       "      <td>0</td>\n",
       "      <td>No</td>\n",
       "      <td>No</td>\n",
       "      <td>45</td>\n",
       "      <td>No</td>\n",
       "      <td>No phone service</td>\n",
       "      <td>DSL</td>\n",
       "      <td>Yes</td>\n",
       "      <td>No</td>\n",
       "      <td>Yes</td>\n",
       "      <td>Yes</td>\n",
       "      <td>No</td>\n",
       "      <td>No</td>\n",
       "      <td>One year</td>\n",
       "      <td>No</td>\n",
       "      <td>Bank transfer (automatic)</td>\n",
       "      <td>42.300</td>\n",
       "      <td>0</td>\n",
       "      <td>1</td>\n",
       "    </tr>\n",
       "    <tr>\n",
       "      <th>4</th>\n",
       "      <td>Female</td>\n",
       "      <td>0</td>\n",
       "      <td>No</td>\n",
       "      <td>No</td>\n",
       "      <td>2</td>\n",
       "      <td>Yes</td>\n",
       "      <td>No</td>\n",
       "      <td>Fiber optic</td>\n",
       "      <td>No</td>\n",
       "      <td>No</td>\n",
       "      <td>No</td>\n",
       "      <td>No</td>\n",
       "      <td>No</td>\n",
       "      <td>No</td>\n",
       "      <td>Month-to-month</td>\n",
       "      <td>Yes</td>\n",
       "      <td>Electronic check</td>\n",
       "      <td>70.700</td>\n",
       "      <td>1</td>\n",
       "      <td>0</td>\n",
       "    </tr>\n",
       "  </tbody>\n",
       "</table>\n",
       "</div>"
      ],
      "text/plain": [
       "   GENDER  SENIORCITIZEN PARTNER DEPENDENTS  TENURE PHONESERVICE     MULTIPLELINES INTERNETSERVICE ONLINESECURITY ONLINEBACKUP DEVICEPROTECTION TECHSUPPORT STREAMINGTV STREAMINGMOVIES        CONTRACT PAPERLESSBILLING              PAYMENTMETHOD  MONTHLYCHARGES  CHURN  NEW_AUTOMATIC_PAYMENT\n",
       "0  Female              0     Yes         No       1           No  No phone service             DSL             No          Yes               No          No          No              No  Month-to-month              Yes           Electronic check          29.850      0                      0\n",
       "1    Male              0      No         No      34          Yes                No             DSL            Yes           No              Yes          No          No              No        One year               No               Mailed check          56.950      0                      0\n",
       "2    Male              0      No         No       2          Yes                No             DSL            Yes          Yes               No          No          No              No  Month-to-month              Yes               Mailed check          53.850      1                      0\n",
       "3    Male              0      No         No      45           No  No phone service             DSL            Yes           No              Yes         Yes          No              No        One year               No  Bank transfer (automatic)          42.300      0                      1\n",
       "4  Female              0      No         No       2          Yes                No     Fiber optic             No           No               No          No          No              No  Month-to-month              Yes           Electronic check          70.700      1                      0"
      ]
     },
     "execution_count": 46,
     "metadata": {},
     "output_type": "execute_result"
    }
   ],
   "source": [
    "df.head()"
   ]
  },
  {
   "cell_type": "code",
   "execution_count": 144,
   "id": "1eb9ebe0-8b0d-4bf8-95f5-cdd70cbe2194",
   "metadata": {},
   "outputs": [],
   "source": [
    "df3 = df.drop(['GENDER','PHONESERVICE','MULTIPLELINES'],axis=1)"
   ]
  },
  {
   "cell_type": "code",
   "execution_count": 145,
   "id": "a73b52f7-c0da-4689-bb49-979d566f0925",
   "metadata": {},
   "outputs": [],
   "source": [
    "X = df3.copy()\n",
    "y = X.pop('CHURN')\n",
    "\n",
    "X = pd.get_dummies(X)"
   ]
  },
  {
   "cell_type": "code",
   "execution_count": 146,
   "id": "8f612d6b-679d-4493-bfaa-20677bdfc89d",
   "metadata": {},
   "outputs": [
    {
     "data": {
      "text/html": [
       "<div>\n",
       "<style scoped>\n",
       "    .dataframe tbody tr th:only-of-type {\n",
       "        vertical-align: middle;\n",
       "    }\n",
       "\n",
       "    .dataframe tbody tr th {\n",
       "        vertical-align: top;\n",
       "    }\n",
       "\n",
       "    .dataframe thead th {\n",
       "        text-align: right;\n",
       "    }\n",
       "</style>\n",
       "<table border=\"1\" class=\"dataframe\">\n",
       "  <thead>\n",
       "    <tr style=\"text-align: right;\">\n",
       "      <th></th>\n",
       "      <th>SENIORCITIZEN</th>\n",
       "      <th>PARTNER</th>\n",
       "      <th>DEPENDENTS</th>\n",
       "      <th>TENURE</th>\n",
       "      <th>INTERNETSERVICE</th>\n",
       "      <th>ONLINESECURITY</th>\n",
       "      <th>ONLINEBACKUP</th>\n",
       "      <th>DEVICEPROTECTION</th>\n",
       "      <th>TECHSUPPORT</th>\n",
       "      <th>STREAMINGTV</th>\n",
       "      <th>STREAMINGMOVIES</th>\n",
       "      <th>CONTRACT</th>\n",
       "      <th>PAPERLESSBILLING</th>\n",
       "      <th>PAYMENTMETHOD</th>\n",
       "      <th>MONTHLYCHARGES</th>\n",
       "      <th>CHURN</th>\n",
       "      <th>NEW_AUTOMATIC_PAYMENT</th>\n",
       "    </tr>\n",
       "  </thead>\n",
       "  <tbody>\n",
       "    <tr>\n",
       "      <th>0</th>\n",
       "      <td>0</td>\n",
       "      <td>Yes</td>\n",
       "      <td>No</td>\n",
       "      <td>1</td>\n",
       "      <td>DSL</td>\n",
       "      <td>No</td>\n",
       "      <td>Yes</td>\n",
       "      <td>No</td>\n",
       "      <td>No</td>\n",
       "      <td>No</td>\n",
       "      <td>No</td>\n",
       "      <td>Month-to-month</td>\n",
       "      <td>Yes</td>\n",
       "      <td>Electronic check</td>\n",
       "      <td>29.850</td>\n",
       "      <td>0</td>\n",
       "      <td>0</td>\n",
       "    </tr>\n",
       "    <tr>\n",
       "      <th>1</th>\n",
       "      <td>0</td>\n",
       "      <td>No</td>\n",
       "      <td>No</td>\n",
       "      <td>34</td>\n",
       "      <td>DSL</td>\n",
       "      <td>Yes</td>\n",
       "      <td>No</td>\n",
       "      <td>Yes</td>\n",
       "      <td>No</td>\n",
       "      <td>No</td>\n",
       "      <td>No</td>\n",
       "      <td>One year</td>\n",
       "      <td>No</td>\n",
       "      <td>Mailed check</td>\n",
       "      <td>56.950</td>\n",
       "      <td>0</td>\n",
       "      <td>0</td>\n",
       "    </tr>\n",
       "    <tr>\n",
       "      <th>2</th>\n",
       "      <td>0</td>\n",
       "      <td>No</td>\n",
       "      <td>No</td>\n",
       "      <td>2</td>\n",
       "      <td>DSL</td>\n",
       "      <td>Yes</td>\n",
       "      <td>Yes</td>\n",
       "      <td>No</td>\n",
       "      <td>No</td>\n",
       "      <td>No</td>\n",
       "      <td>No</td>\n",
       "      <td>Month-to-month</td>\n",
       "      <td>Yes</td>\n",
       "      <td>Mailed check</td>\n",
       "      <td>53.850</td>\n",
       "      <td>1</td>\n",
       "      <td>0</td>\n",
       "    </tr>\n",
       "    <tr>\n",
       "      <th>3</th>\n",
       "      <td>0</td>\n",
       "      <td>No</td>\n",
       "      <td>No</td>\n",
       "      <td>45</td>\n",
       "      <td>DSL</td>\n",
       "      <td>Yes</td>\n",
       "      <td>No</td>\n",
       "      <td>Yes</td>\n",
       "      <td>Yes</td>\n",
       "      <td>No</td>\n",
       "      <td>No</td>\n",
       "      <td>One year</td>\n",
       "      <td>No</td>\n",
       "      <td>Bank transfer (automatic)</td>\n",
       "      <td>42.300</td>\n",
       "      <td>0</td>\n",
       "      <td>1</td>\n",
       "    </tr>\n",
       "    <tr>\n",
       "      <th>4</th>\n",
       "      <td>0</td>\n",
       "      <td>No</td>\n",
       "      <td>No</td>\n",
       "      <td>2</td>\n",
       "      <td>Fiber optic</td>\n",
       "      <td>No</td>\n",
       "      <td>No</td>\n",
       "      <td>No</td>\n",
       "      <td>No</td>\n",
       "      <td>No</td>\n",
       "      <td>No</td>\n",
       "      <td>Month-to-month</td>\n",
       "      <td>Yes</td>\n",
       "      <td>Electronic check</td>\n",
       "      <td>70.700</td>\n",
       "      <td>1</td>\n",
       "      <td>0</td>\n",
       "    </tr>\n",
       "  </tbody>\n",
       "</table>\n",
       "</div>"
      ],
      "text/plain": [
       "   SENIORCITIZEN PARTNER DEPENDENTS  TENURE INTERNETSERVICE ONLINESECURITY ONLINEBACKUP DEVICEPROTECTION TECHSUPPORT STREAMINGTV STREAMINGMOVIES        CONTRACT PAPERLESSBILLING              PAYMENTMETHOD  MONTHLYCHARGES  CHURN  NEW_AUTOMATIC_PAYMENT\n",
       "0              0     Yes         No       1             DSL             No          Yes               No          No          No              No  Month-to-month              Yes           Electronic check          29.850      0                      0\n",
       "1              0      No         No      34             DSL            Yes           No              Yes          No          No              No        One year               No               Mailed check          56.950      0                      0\n",
       "2              0      No         No       2             DSL            Yes          Yes               No          No          No              No  Month-to-month              Yes               Mailed check          53.850      1                      0\n",
       "3              0      No         No      45             DSL            Yes           No              Yes         Yes          No              No        One year               No  Bank transfer (automatic)          42.300      0                      1\n",
       "4              0      No         No       2     Fiber optic             No           No               No          No          No              No  Month-to-month              Yes           Electronic check          70.700      1                      0"
      ]
     },
     "execution_count": 146,
     "metadata": {},
     "output_type": "execute_result"
    }
   ],
   "source": [
    "df3.head()"
   ]
  },
  {
   "cell_type": "code",
   "execution_count": 156,
   "id": "1d8095ed-0068-4dc9-94bf-f4453b9458c6",
   "metadata": {},
   "outputs": [
    {
     "data": {
      "text/plain": [
       "(7032, 17)"
      ]
     },
     "execution_count": 156,
     "metadata": {},
     "output_type": "execute_result"
    }
   ],
   "source": [
    "df3.shape"
   ]
  },
  {
   "cell_type": "code",
   "execution_count": 147,
   "id": "126efa5f-0528-46b5-b4f1-33495e0c923c",
   "metadata": {},
   "outputs": [
    {
     "name": "stdout",
     "output_type": "stream",
     "text": [
      "  LR:Accuracy: 0.801, F1_Score: 0.592, Roc_auc_score:0.842\n",
      "  CART:Accuracy: 0.728, F1_Score: 0.493, Roc_auc_score:0.657\n",
      "  RF:Accuracy: 0.783, F1_Score: 0.545, Roc_auc_score:0.814\n",
      "  SVC:Accuracy: 0.79, F1_Score: 0.503, Roc_auc_score:0.8\n",
      "  GBM:Accuracy: 0.8, F1_Score: 0.579, Roc_auc_score:0.846\n",
      "  XGBoost:Accuracy: nan, F1_Score: nan, Roc_auc_score:nan\n",
      "  LightGBM:Accuracy: 0.796, F1_Score: 0.577, Roc_auc_score:0.835\n"
     ]
    }
   ],
   "source": [
    "        models = [('LR', LogisticRegression()),\n",
    "                  ('CART', DecisionTreeClassifier(random_state=1)),\n",
    "                  ('RF', RandomForestClassifier(random_state=1,n_estimators=300)),\n",
    "                  ('SVC', SVC(random_state=1)),\n",
    "                  ('GBM', GradientBoostingClassifier(random_state=1)),\n",
    "                  (\"XGBoost\", XGBClassifier(objective='log_loss')),\n",
    "                  (\"LightGBM\", LGBMClassifier(random_state=1))]\n",
    "\n",
    "        for name, classifier in models:\n",
    "            cv_results = cross_validate(classifier, X, y, cv=10, scoring=[\"accuracy\", \"f1\", \"roc_auc\"])\n",
    "            accuracy = cv_results['test_accuracy'].mean()\n",
    "            f1_score = cv_results['test_f1'].mean()\n",
    "            roc_auc_score = cv_results['test_roc_auc'].mean()\n",
    "            print(f'  {name}:Accuracy: {round(accuracy, 3)}, F1_Score: {round(f1_score, 3)}, Roc_auc_score:{round(roc_auc_score, 3)}')"
   ]
  },
  {
   "cell_type": "code",
   "execution_count": 148,
   "id": "5a2bb646-6ee8-4b61-91f7-efd211b63dc5",
   "metadata": {},
   "outputs": [
    {
     "data": {
      "text/html": [
       "<div>\n",
       "<style scoped>\n",
       "    .dataframe tbody tr th:only-of-type {\n",
       "        vertical-align: middle;\n",
       "    }\n",
       "\n",
       "    .dataframe tbody tr th {\n",
       "        vertical-align: top;\n",
       "    }\n",
       "\n",
       "    .dataframe thead th {\n",
       "        text-align: right;\n",
       "    }\n",
       "</style>\n",
       "<table border=\"1\" class=\"dataframe\">\n",
       "  <thead>\n",
       "    <tr style=\"text-align: right;\">\n",
       "      <th></th>\n",
       "      <th>GENDER</th>\n",
       "      <th>SENIORCITIZEN</th>\n",
       "      <th>PARTNER</th>\n",
       "      <th>DEPENDENTS</th>\n",
       "      <th>TENURE</th>\n",
       "      <th>PHONESERVICE</th>\n",
       "      <th>MULTIPLELINES</th>\n",
       "      <th>INTERNETSERVICE</th>\n",
       "      <th>ONLINESECURITY</th>\n",
       "      <th>ONLINEBACKUP</th>\n",
       "      <th>DEVICEPROTECTION</th>\n",
       "      <th>TECHSUPPORT</th>\n",
       "      <th>STREAMINGTV</th>\n",
       "      <th>STREAMINGMOVIES</th>\n",
       "      <th>CONTRACT</th>\n",
       "      <th>PAPERLESSBILLING</th>\n",
       "      <th>PAYMENTMETHOD</th>\n",
       "      <th>MONTHLYCHARGES</th>\n",
       "      <th>CHURN</th>\n",
       "      <th>NEW_AUTOMATIC_PAYMENT</th>\n",
       "    </tr>\n",
       "  </thead>\n",
       "  <tbody>\n",
       "    <tr>\n",
       "      <th>0</th>\n",
       "      <td>Female</td>\n",
       "      <td>0</td>\n",
       "      <td>Yes</td>\n",
       "      <td>No</td>\n",
       "      <td>1</td>\n",
       "      <td>No</td>\n",
       "      <td>No phone service</td>\n",
       "      <td>DSL</td>\n",
       "      <td>No</td>\n",
       "      <td>Yes</td>\n",
       "      <td>No</td>\n",
       "      <td>No</td>\n",
       "      <td>No</td>\n",
       "      <td>No</td>\n",
       "      <td>Month-to-month</td>\n",
       "      <td>Yes</td>\n",
       "      <td>Electronic check</td>\n",
       "      <td>29.850</td>\n",
       "      <td>0</td>\n",
       "      <td>0</td>\n",
       "    </tr>\n",
       "    <tr>\n",
       "      <th>1</th>\n",
       "      <td>Male</td>\n",
       "      <td>0</td>\n",
       "      <td>No</td>\n",
       "      <td>No</td>\n",
       "      <td>34</td>\n",
       "      <td>Yes</td>\n",
       "      <td>No</td>\n",
       "      <td>DSL</td>\n",
       "      <td>Yes</td>\n",
       "      <td>No</td>\n",
       "      <td>Yes</td>\n",
       "      <td>No</td>\n",
       "      <td>No</td>\n",
       "      <td>No</td>\n",
       "      <td>One year</td>\n",
       "      <td>No</td>\n",
       "      <td>Mailed check</td>\n",
       "      <td>56.950</td>\n",
       "      <td>0</td>\n",
       "      <td>0</td>\n",
       "    </tr>\n",
       "    <tr>\n",
       "      <th>2</th>\n",
       "      <td>Male</td>\n",
       "      <td>0</td>\n",
       "      <td>No</td>\n",
       "      <td>No</td>\n",
       "      <td>2</td>\n",
       "      <td>Yes</td>\n",
       "      <td>No</td>\n",
       "      <td>DSL</td>\n",
       "      <td>Yes</td>\n",
       "      <td>Yes</td>\n",
       "      <td>No</td>\n",
       "      <td>No</td>\n",
       "      <td>No</td>\n",
       "      <td>No</td>\n",
       "      <td>Month-to-month</td>\n",
       "      <td>Yes</td>\n",
       "      <td>Mailed check</td>\n",
       "      <td>53.850</td>\n",
       "      <td>1</td>\n",
       "      <td>0</td>\n",
       "    </tr>\n",
       "    <tr>\n",
       "      <th>3</th>\n",
       "      <td>Male</td>\n",
       "      <td>0</td>\n",
       "      <td>No</td>\n",
       "      <td>No</td>\n",
       "      <td>45</td>\n",
       "      <td>No</td>\n",
       "      <td>No phone service</td>\n",
       "      <td>DSL</td>\n",
       "      <td>Yes</td>\n",
       "      <td>No</td>\n",
       "      <td>Yes</td>\n",
       "      <td>Yes</td>\n",
       "      <td>No</td>\n",
       "      <td>No</td>\n",
       "      <td>One year</td>\n",
       "      <td>No</td>\n",
       "      <td>Bank transfer (automatic)</td>\n",
       "      <td>42.300</td>\n",
       "      <td>0</td>\n",
       "      <td>1</td>\n",
       "    </tr>\n",
       "    <tr>\n",
       "      <th>4</th>\n",
       "      <td>Female</td>\n",
       "      <td>0</td>\n",
       "      <td>No</td>\n",
       "      <td>No</td>\n",
       "      <td>2</td>\n",
       "      <td>Yes</td>\n",
       "      <td>No</td>\n",
       "      <td>Fiber optic</td>\n",
       "      <td>No</td>\n",
       "      <td>No</td>\n",
       "      <td>No</td>\n",
       "      <td>No</td>\n",
       "      <td>No</td>\n",
       "      <td>No</td>\n",
       "      <td>Month-to-month</td>\n",
       "      <td>Yes</td>\n",
       "      <td>Electronic check</td>\n",
       "      <td>70.700</td>\n",
       "      <td>1</td>\n",
       "      <td>0</td>\n",
       "    </tr>\n",
       "  </tbody>\n",
       "</table>\n",
       "</div>"
      ],
      "text/plain": [
       "   GENDER  SENIORCITIZEN PARTNER DEPENDENTS  TENURE PHONESERVICE     MULTIPLELINES INTERNETSERVICE ONLINESECURITY ONLINEBACKUP DEVICEPROTECTION TECHSUPPORT STREAMINGTV STREAMINGMOVIES        CONTRACT PAPERLESSBILLING              PAYMENTMETHOD  MONTHLYCHARGES  CHURN  NEW_AUTOMATIC_PAYMENT\n",
       "0  Female              0     Yes         No       1           No  No phone service             DSL             No          Yes               No          No          No              No  Month-to-month              Yes           Electronic check          29.850      0                      0\n",
       "1    Male              0      No         No      34          Yes                No             DSL            Yes           No              Yes          No          No              No        One year               No               Mailed check          56.950      0                      0\n",
       "2    Male              0      No         No       2          Yes                No             DSL            Yes          Yes               No          No          No              No  Month-to-month              Yes               Mailed check          53.850      1                      0\n",
       "3    Male              0      No         No      45           No  No phone service             DSL            Yes           No              Yes         Yes          No              No        One year               No  Bank transfer (automatic)          42.300      0                      1\n",
       "4  Female              0      No         No       2          Yes                No     Fiber optic             No           No               No          No          No              No  Month-to-month              Yes           Electronic check          70.700      1                      0"
      ]
     },
     "execution_count": 148,
     "metadata": {},
     "output_type": "execute_result"
    }
   ],
   "source": [
    "df.head()"
   ]
  },
  {
   "cell_type": "code",
   "execution_count": 50,
   "id": "8e354fe2-36f8-40c9-bf91-6a1c438c3936",
   "metadata": {},
   "outputs": [],
   "source": [
    "df2.to_csv('datasets\\selected_features.csv',index=False)"
   ]
  },
  {
   "cell_type": "code",
   "execution_count": null,
   "id": "ec8fe951-1f18-4d2a-98a7-2fc4db7eae8e",
   "metadata": {},
   "outputs": [],
   "source": []
  }
 ],
 "metadata": {
  "kernelspec": {
   "display_name": "ugur1",
   "language": "python",
   "name": "ugur1"
  },
  "language_info": {
   "codemirror_mode": {
    "name": "ipython",
    "version": 3
   },
   "file_extension": ".py",
   "mimetype": "text/x-python",
   "name": "python",
   "nbconvert_exporter": "python",
   "pygments_lexer": "ipython3",
   "version": "3.8.12"
  }
 },
 "nbformat": 4,
 "nbformat_minor": 5
}
